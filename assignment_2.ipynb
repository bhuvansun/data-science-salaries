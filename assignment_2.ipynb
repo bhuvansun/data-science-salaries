{
  "cells": [
    {
      "cell_type": "markdown",
      "metadata": {
        "id": "view-in-github",
        "colab_type": "text"
      },
      "source": [
        "<a href=\"https://colab.research.google.com/github/bhuvansun/data-science-salaries/blob/main/assignment_2.ipynb\" target=\"_parent\"><img src=\"https://colab.research.google.com/assets/colab-badge.svg\" alt=\"Open In Colab\"/></a>"
      ]
    },
    {
      "cell_type": "markdown",
      "metadata": {
        "id": "clr65ahCwtbl"
      },
      "source": [
        "> ### **Assignment 2 - Numpy Array Operations**\n",
        "\n",
        "\n",
        "\n",
        "# 5 Interesting Numpy Functions\n",
        "\n",
        "\n",
        "### That make Numpy so impressive\n",
        "\n",
        "\n",
        "- Function 1: np.logspace()\n",
        "- Function 2: np.moveaxis()\n",
        "- Function 3: np.dstack()\n",
        "- Function 4: np.bitwise_xor()\n",
        "- Function 5: np.matmul()"
      ]
    },
    {
      "cell_type": "code",
      "execution_count": null,
      "metadata": {
        "colab": {
          "base_uri": "https://localhost:8080/"
        },
        "id": "Q9O_AfH-wtbn",
        "outputId": "98550e02-f956-4ab7-807d-5919898b10ca"
      },
      "outputs": [
        {
          "name": "stdout",
          "output_type": "stream",
          "text": [
            "\u001b[?25l     \u001b[90m━━━━━━━━━━━━━━━━━━━━━━━━━━━━━━━━━━━━━━━━\u001b[0m \u001b[32m0.0/68.6 kB\u001b[0m \u001b[31m?\u001b[0m eta \u001b[36m-:--:--\u001b[0m\r",
            "\u001b[2K     \u001b[90m━━━━━━━━━━━━━━━━━━━━━━━━━━━━━━━━━━━━━━━━\u001b[0m \u001b[32m68.6/68.6 kB\u001b[0m \u001b[31m2.8 MB/s\u001b[0m eta \u001b[36m0:00:00\u001b[0m\n",
            "\u001b[?25h  Preparing metadata (setup.py) ... \u001b[?25l\u001b[?25hdone\n",
            "  Building wheel for uuid (setup.py) ... \u001b[?25l\u001b[?25hdone\n"
          ]
        }
      ],
      "source": [
        "!pip install jovian --upgrade -q"
      ]
    },
    {
      "cell_type": "code",
      "execution_count": null,
      "metadata": {
        "id": "jyuS1B6xwtbn"
      },
      "outputs": [],
      "source": [
        "import jovian"
      ]
    },
    {
      "cell_type": "code",
      "execution_count": null,
      "metadata": {
        "colab": {
          "base_uri": "https://localhost:8080/"
        },
        "id": "D3yALqldwtbo",
        "outputId": "8b713cd9-7f42-42a2-ae67-7aa361701e2b"
      },
      "outputs": [
        {
          "name": "stdout",
          "output_type": "stream",
          "text": [
            "[jovian] Detected Colab notebook...\u001b[0m\n",
            "[jovian] jovian.commit() is no longer required on Google Colab. If you ran this notebook from Jovian, \n",
            "then just save this file in Colab using Ctrl+S/Cmd+S and it will be updated on Jovian. \n",
            "Also, you can also delete this cell, it's no longer necessary.\u001b[0m\n"
          ]
        }
      ],
      "source": [
        "jovian.commit(project='assignment-2')"
      ]
    },
    {
      "cell_type": "code",
      "execution_count": null,
      "metadata": {
        "id": "YQxNx8UEwtbo"
      },
      "outputs": [],
      "source": [
        "import numpy as np"
      ]
    },
    {
      "cell_type": "code",
      "execution_count": null,
      "metadata": {
        "id": "MA8DU2e6wtbp"
      },
      "outputs": [],
      "source": [
        "# List of functions explained\n",
        "function1 = np.logspace()\n",
        "function2 =\n",
        "function3 =\n",
        "function4 =\n",
        "function5 ="
      ]
    },
    {
      "cell_type": "markdown",
      "metadata": {
        "id": "9mC7U3TEwtbp"
      },
      "source": [
        "## Function 1 - np.logspace()\n",
        "\n",
        "Similar to linspace, logspace returns an array of evenly spaced numbers between specified numbers, but on a log scale with a particular base.\n",
        "\n",
        "Calling method:\n",
        "numpy.logspace(start, stop, num='(int)', endpoint='(Bool)', base='(float)', dtype=None, axis='(int)')\n",
        "\n",
        "If not specified, the base is taken as 10 by default, and endpoint is taken as True by default.\n",
        "\n"
      ]
    },
    {
      "cell_type": "code",
      "execution_count": null,
      "metadata": {
        "colab": {
          "base_uri": "https://localhost:8080/"
        },
        "id": "MXFOd85Awtbp",
        "outputId": "d1c0bd19-8f6f-4d5f-9905-5143e005e3bc"
      },
      "outputs": [
        {
          "data": {
            "text/plain": [
              "array([4.        , 5.0396842 , 6.34960421, 8.        ])"
            ]
          },
          "execution_count": 5,
          "metadata": {},
          "output_type": "execute_result"
        }
      ],
      "source": [
        "# Example 1 - working\n",
        "np.logspace(2.0, 3.0, num=4, base=2.0)"
      ]
    },
    {
      "cell_type": "markdown",
      "metadata": {
        "id": "5fi5Bbj1wtbp"
      },
      "source": [
        "Here, we select 4 numbers between 2 and 3, which would be 2, 2.33, 2.66, 3.\n",
        "\n",
        "\n",
        "The base is specified as 2.\n",
        "\n",
        "\n",
        "Now, the function generates an array which contains an ordered sequence of the values which, when the log is applied on them, return the above mentioned values.\n",
        "\n",
        "\n",
        "For example, log(base=2)4 would give 2, which is the first element.\n",
        "\n",
        "\n",
        "Similar is the case with the other elements."
      ]
    },
    {
      "cell_type": "code",
      "execution_count": null,
      "metadata": {
        "colab": {
          "base_uri": "https://localhost:8080/"
        },
        "id": "SyLWZYsWwtbp",
        "outputId": "8a9da7f2-8ed9-4e71-f0c8-818c81095453"
      },
      "outputs": [
        {
          "data": {
            "text/plain": [
              "array([  100.        ,   562.34132519,  3162.27766017, 17782.79410039])"
            ]
          },
          "execution_count": 7,
          "metadata": {},
          "output_type": "execute_result"
        }
      ],
      "source": [
        "# Example 2 - working\n",
        "np.logspace(2.0, 5.0, num=4, endpoint=False)"
      ]
    },
    {
      "cell_type": "markdown",
      "metadata": {
        "id": "GQYu4cFVwtbp"
      },
      "source": [
        "Here, we select 4 numbers between 2 and 5.\n",
        "\n",
        "Since we set the endpoint to False, this selection is exclusive of 5.\n",
        "Numpy selected 4.24 as the last number in this case.\n",
        "\n",
        "The default base is 10.\n",
        "\n",
        "The output array contains 4 numbers which give us the selected numbers when the log is applied on them.\n",
        "\n",
        "Log of 562 is 2.74, 3162 is 3.49, and 17782 is 4.24."
      ]
    },
    {
      "cell_type": "code",
      "execution_count": null,
      "metadata": {
        "colab": {
          "base_uri": "https://localhost:8080/"
        },
        "id": "KrVWEHpjwtbq",
        "outputId": "40917a62-cf8b-4bd1-e68d-43861ca4a7bc"
      },
      "outputs": [
        {
          "name": "stderr",
          "output_type": "stream",
          "text": [
            "/usr/local/lib/python3.10/dist-packages/numpy/core/function_base.py:277: RuntimeWarning: invalid value encountered in power\n",
            "  return _nx.power(base, y)\n"
          ]
        },
        {
          "data": {
            "text/plain": [
              "array([-5.000e-01,        nan,        nan,  1.024e+03])"
            ]
          },
          "execution_count": 10,
          "metadata": {},
          "output_type": "execute_result"
        }
      ],
      "source": [
        "# Example 3 - breaking (to illustrate when it breaks)\n",
        "np.logspace(-1, 10.0, num=4, base=-2.0)"
      ]
    },
    {
      "cell_type": "markdown",
      "metadata": {
        "id": "6zyNp38Awtbq"
      },
      "source": [
        "Over here, we mentioned the base to be -2.\n",
        "\n",
        "Although the datatype is a float, base of a log function cannot be negative.\n",
        "\n",
        "Hence, we get an error regarding the invalid value of the base."
      ]
    },
    {
      "cell_type": "markdown",
      "metadata": {
        "id": "lx6nCpJKwtbq"
      },
      "source": [
        "Usually, when representing large values in a graph, the values are represented in a logarithmic scale with some base(typically 10) for convenience, as displaying on a linear scale won't give a proper visual of the data due to thee massice size.\n",
        "\n",
        "One best example is the representation of the distance of planets and celestial bodies from the earth. A log scale would give a cleaner representation, whereas a linear scale would be too large to even fit into a graph.\n",
        "\n",
        "Using logspace, we can derive the linear values between any two endpoints quickly for deriving the actual value from the log scale."
      ]
    },
    {
      "cell_type": "code",
      "execution_count": null,
      "metadata": {
        "colab": {
          "base_uri": "https://localhost:8080/"
        },
        "id": "4ZDUKFjOwtbq",
        "outputId": "83f46083-e7a5-458d-c507-0ef5663d46f2"
      },
      "outputs": [
        {
          "name": "stdout",
          "output_type": "stream",
          "text": [
            "[jovian] Detected Colab notebook...\u001b[0m\n",
            "[jovian] jovian.commit() is no longer required on Google Colab. If you ran this notebook from Jovian, \n",
            "then just save this file in Colab using Ctrl+S/Cmd+S and it will be updated on Jovian. \n",
            "Also, you can also delete this cell, it's no longer necessary.\u001b[0m\n"
          ]
        }
      ],
      "source": [
        "jovian.commit()"
      ]
    },
    {
      "cell_type": "markdown",
      "metadata": {
        "id": "OMT9E56Cwtbq"
      },
      "source": [
        "## Function 2 - np.moveaxis()\n",
        "\n",
        "Moves the axes of an array according to the parameters specified.\n",
        "\n",
        "\n",
        "Function calling:\n",
        "numpy.moveaxis(a, source, destination)\n",
        "\n",
        "------\n",
        "\n",
        "source:\n",
        "\n",
        "\n",
        "Original positions of the axes to move. These must be unique.\n",
        "\n",
        "destination:\n",
        "\n",
        "\n",
        "Destination positions for each of the original axes. These must also be unique.\n"
      ]
    },
    {
      "cell_type": "code",
      "execution_count": null,
      "metadata": {
        "colab": {
          "base_uri": "https://localhost:8080/"
        },
        "id": "m27wm6i4wtbq",
        "outputId": "4ce904b8-2c48-4174-8d25-02d6c2605501"
      },
      "outputs": [
        {
          "data": {
            "text/plain": [
              "(4, 5, 3)"
            ]
          },
          "execution_count": 18,
          "metadata": {},
          "output_type": "execute_result"
        }
      ],
      "source": [
        "# Example 1 - working\n",
        "x = np.zeros((3, 4, 5))\n",
        "np.moveaxis(x, 0, -1).shape"
      ]
    },
    {
      "cell_type": "markdown",
      "metadata": {
        "id": "lpnPzxWjwtbq"
      },
      "source": [
        "The given array contains 3 2D arrays with 4 1D arrays with 5 elements in each 1D array.\n",
        "\n",
        "After altering the axes, the new array has 4 2D arrays with 5 1D arrays with 3 elements in each 1D array."
      ]
    },
    {
      "cell_type": "code",
      "execution_count": null,
      "metadata": {
        "colab": {
          "base_uri": "https://localhost:8080/"
        },
        "id": "lAWgkKjnwtbq",
        "outputId": "142c7093-1ed8-4696-93d1-73c32bc960e8"
      },
      "outputs": [
        {
          "data": {
            "text/plain": [
              "(5, 3, 4)"
            ]
          },
          "execution_count": 19,
          "metadata": {},
          "output_type": "execute_result"
        }
      ],
      "source": [
        "# Example 2 - working\n",
        "np.moveaxis(x, -1, 0).shape"
      ]
    },
    {
      "cell_type": "markdown",
      "metadata": {
        "id": "-wJSXyE7wtbr"
      },
      "source": [
        "The given array contains 3 2D arrays with 4 1D arrays with 5 elements in each 1D array.\n",
        "\n",
        "After altering the axes, the new array has 5 2D arrays with 3 1D arrays with 4 elements in each 1D array."
      ]
    },
    {
      "cell_type": "code",
      "execution_count": null,
      "metadata": {
        "colab": {
          "base_uri": "https://localhost:8080/",
          "height": 328
        },
        "id": "yGpit8Vkwtbr",
        "outputId": "3a9c2bda-f493-4612-cd24-734ce01ddb8c"
      },
      "outputs": [
        {
          "ename": "AxisError",
          "evalue": "ignored",
          "output_type": "error",
          "traceback": [
            "\u001b[0;31m---------------------------------------------------------------------------\u001b[0m",
            "\u001b[0;31mAxisError\u001b[0m                                 Traceback (most recent call last)",
            "\u001b[0;32m<ipython-input-23-bcfc977f1e0d>\u001b[0m in \u001b[0;36m<cell line: 2>\u001b[0;34m()\u001b[0m\n\u001b[1;32m      1\u001b[0m \u001b[0;31m# Example 3 - breaking (to illustrate when it breaks)\u001b[0m\u001b[0;34m\u001b[0m\u001b[0;34m\u001b[0m\u001b[0m\n\u001b[0;32m----> 2\u001b[0;31m \u001b[0mnp\u001b[0m\u001b[0;34m.\u001b[0m\u001b[0mmoveaxis\u001b[0m\u001b[0;34m(\u001b[0m\u001b[0mx\u001b[0m\u001b[0;34m,\u001b[0m \u001b[0;34m-\u001b[0m\u001b[0;36m1\u001b[0m\u001b[0;34m,\u001b[0m \u001b[0;36m3\u001b[0m\u001b[0;34m)\u001b[0m\u001b[0;34m.\u001b[0m\u001b[0mshape\u001b[0m\u001b[0;34m\u001b[0m\u001b[0;34m\u001b[0m\u001b[0m\n\u001b[0m",
            "\u001b[0;32m/usr/local/lib/python3.10/dist-packages/numpy/core/overrides.py\u001b[0m in \u001b[0;36mmoveaxis\u001b[0;34m(*args, **kwargs)\u001b[0m\n",
            "\u001b[0;32m/usr/local/lib/python3.10/dist-packages/numpy/core/numeric.py\u001b[0m in \u001b[0;36mmoveaxis\u001b[0;34m(a, source, destination)\u001b[0m\n\u001b[1;32m   1459\u001b[0m \u001b[0;34m\u001b[0m\u001b[0m\n\u001b[1;32m   1460\u001b[0m     \u001b[0msource\u001b[0m \u001b[0;34m=\u001b[0m \u001b[0mnormalize_axis_tuple\u001b[0m\u001b[0;34m(\u001b[0m\u001b[0msource\u001b[0m\u001b[0;34m,\u001b[0m \u001b[0ma\u001b[0m\u001b[0;34m.\u001b[0m\u001b[0mndim\u001b[0m\u001b[0;34m,\u001b[0m \u001b[0;34m'source'\u001b[0m\u001b[0;34m)\u001b[0m\u001b[0;34m\u001b[0m\u001b[0;34m\u001b[0m\u001b[0m\n\u001b[0;32m-> 1461\u001b[0;31m     \u001b[0mdestination\u001b[0m \u001b[0;34m=\u001b[0m \u001b[0mnormalize_axis_tuple\u001b[0m\u001b[0;34m(\u001b[0m\u001b[0mdestination\u001b[0m\u001b[0;34m,\u001b[0m \u001b[0ma\u001b[0m\u001b[0;34m.\u001b[0m\u001b[0mndim\u001b[0m\u001b[0;34m,\u001b[0m \u001b[0;34m'destination'\u001b[0m\u001b[0;34m)\u001b[0m\u001b[0;34m\u001b[0m\u001b[0;34m\u001b[0m\u001b[0m\n\u001b[0m\u001b[1;32m   1462\u001b[0m     \u001b[0;32mif\u001b[0m \u001b[0mlen\u001b[0m\u001b[0;34m(\u001b[0m\u001b[0msource\u001b[0m\u001b[0;34m)\u001b[0m \u001b[0;34m!=\u001b[0m \u001b[0mlen\u001b[0m\u001b[0;34m(\u001b[0m\u001b[0mdestination\u001b[0m\u001b[0;34m)\u001b[0m\u001b[0;34m:\u001b[0m\u001b[0;34m\u001b[0m\u001b[0;34m\u001b[0m\u001b[0m\n\u001b[1;32m   1463\u001b[0m         raise ValueError('`source` and `destination` arguments must have '\n",
            "\u001b[0;32m/usr/local/lib/python3.10/dist-packages/numpy/core/numeric.py\u001b[0m in \u001b[0;36mnormalize_axis_tuple\u001b[0;34m(axis, ndim, argname, allow_duplicate)\u001b[0m\n\u001b[1;32m   1389\u001b[0m             \u001b[0;32mpass\u001b[0m\u001b[0;34m\u001b[0m\u001b[0;34m\u001b[0m\u001b[0m\n\u001b[1;32m   1390\u001b[0m     \u001b[0;31m# Going via an iterator directly is slower than via list comprehension.\u001b[0m\u001b[0;34m\u001b[0m\u001b[0;34m\u001b[0m\u001b[0m\n\u001b[0;32m-> 1391\u001b[0;31m     \u001b[0maxis\u001b[0m \u001b[0;34m=\u001b[0m \u001b[0mtuple\u001b[0m\u001b[0;34m(\u001b[0m\u001b[0;34m[\u001b[0m\u001b[0mnormalize_axis_index\u001b[0m\u001b[0;34m(\u001b[0m\u001b[0max\u001b[0m\u001b[0;34m,\u001b[0m \u001b[0mndim\u001b[0m\u001b[0;34m,\u001b[0m \u001b[0margname\u001b[0m\u001b[0;34m)\u001b[0m \u001b[0;32mfor\u001b[0m \u001b[0max\u001b[0m \u001b[0;32min\u001b[0m \u001b[0maxis\u001b[0m\u001b[0;34m]\u001b[0m\u001b[0;34m)\u001b[0m\u001b[0;34m\u001b[0m\u001b[0;34m\u001b[0m\u001b[0m\n\u001b[0m\u001b[1;32m   1392\u001b[0m     \u001b[0;32mif\u001b[0m \u001b[0;32mnot\u001b[0m \u001b[0mallow_duplicate\u001b[0m \u001b[0;32mand\u001b[0m \u001b[0mlen\u001b[0m\u001b[0;34m(\u001b[0m\u001b[0mset\u001b[0m\u001b[0;34m(\u001b[0m\u001b[0maxis\u001b[0m\u001b[0;34m)\u001b[0m\u001b[0;34m)\u001b[0m \u001b[0;34m!=\u001b[0m \u001b[0mlen\u001b[0m\u001b[0;34m(\u001b[0m\u001b[0maxis\u001b[0m\u001b[0;34m)\u001b[0m\u001b[0;34m:\u001b[0m\u001b[0;34m\u001b[0m\u001b[0;34m\u001b[0m\u001b[0m\n\u001b[1;32m   1393\u001b[0m         \u001b[0;32mif\u001b[0m \u001b[0margname\u001b[0m\u001b[0;34m:\u001b[0m\u001b[0;34m\u001b[0m\u001b[0;34m\u001b[0m\u001b[0m\n",
            "\u001b[0;32m/usr/local/lib/python3.10/dist-packages/numpy/core/numeric.py\u001b[0m in \u001b[0;36m<listcomp>\u001b[0;34m(.0)\u001b[0m\n\u001b[1;32m   1389\u001b[0m             \u001b[0;32mpass\u001b[0m\u001b[0;34m\u001b[0m\u001b[0;34m\u001b[0m\u001b[0m\n\u001b[1;32m   1390\u001b[0m     \u001b[0;31m# Going via an iterator directly is slower than via list comprehension.\u001b[0m\u001b[0;34m\u001b[0m\u001b[0;34m\u001b[0m\u001b[0m\n\u001b[0;32m-> 1391\u001b[0;31m     \u001b[0maxis\u001b[0m \u001b[0;34m=\u001b[0m \u001b[0mtuple\u001b[0m\u001b[0;34m(\u001b[0m\u001b[0;34m[\u001b[0m\u001b[0mnormalize_axis_index\u001b[0m\u001b[0;34m(\u001b[0m\u001b[0max\u001b[0m\u001b[0;34m,\u001b[0m \u001b[0mndim\u001b[0m\u001b[0;34m,\u001b[0m \u001b[0margname\u001b[0m\u001b[0;34m)\u001b[0m \u001b[0;32mfor\u001b[0m \u001b[0max\u001b[0m \u001b[0;32min\u001b[0m \u001b[0maxis\u001b[0m\u001b[0;34m]\u001b[0m\u001b[0;34m)\u001b[0m\u001b[0;34m\u001b[0m\u001b[0;34m\u001b[0m\u001b[0m\n\u001b[0m\u001b[1;32m   1392\u001b[0m     \u001b[0;32mif\u001b[0m \u001b[0;32mnot\u001b[0m \u001b[0mallow_duplicate\u001b[0m \u001b[0;32mand\u001b[0m \u001b[0mlen\u001b[0m\u001b[0;34m(\u001b[0m\u001b[0mset\u001b[0m\u001b[0;34m(\u001b[0m\u001b[0maxis\u001b[0m\u001b[0;34m)\u001b[0m\u001b[0;34m)\u001b[0m \u001b[0;34m!=\u001b[0m \u001b[0mlen\u001b[0m\u001b[0;34m(\u001b[0m\u001b[0maxis\u001b[0m\u001b[0;34m)\u001b[0m\u001b[0;34m:\u001b[0m\u001b[0;34m\u001b[0m\u001b[0;34m\u001b[0m\u001b[0m\n\u001b[1;32m   1393\u001b[0m         \u001b[0;32mif\u001b[0m \u001b[0margname\u001b[0m\u001b[0;34m:\u001b[0m\u001b[0;34m\u001b[0m\u001b[0;34m\u001b[0m\u001b[0m\n",
            "\u001b[0;31mAxisError\u001b[0m: destination: axis 3 is out of bounds for array of dimension 3"
          ]
        }
      ],
      "source": [
        "# Example 3 - breaking (to illustrate when it breaks)\n",
        "np.moveaxis(x, -1, 3).shape"
      ]
    },
    {
      "cell_type": "markdown",
      "metadata": {
        "id": "NreZFW5jwtbr"
      },
      "source": [
        "The range of the axes should be within the dimensions of the array. In this case, it should be within 3."
      ]
    },
    {
      "cell_type": "markdown",
      "metadata": {
        "id": "0vT9vl7twtbr"
      },
      "source": [
        "This function can be used when we need to rotate the array for specific operations such as multiplication etc."
      ]
    },
    {
      "cell_type": "code",
      "execution_count": null,
      "metadata": {
        "colab": {
          "base_uri": "https://localhost:8080/"
        },
        "id": "oY4XRneLwtbr",
        "outputId": "d8c97558-b3fa-462a-c667-63207b35ffeb"
      },
      "outputs": [
        {
          "name": "stdout",
          "output_type": "stream",
          "text": [
            "[jovian] Detected Colab notebook...\u001b[0m\n",
            "[jovian] jovian.commit() is no longer required on Google Colab. If you ran this notebook from Jovian, \n",
            "then just save this file in Colab using Ctrl+S/Cmd+S and it will be updated on Jovian. \n",
            "Also, you can also delete this cell, it's no longer necessary.\u001b[0m\n"
          ]
        }
      ],
      "source": [
        "jovian.commit()"
      ]
    },
    {
      "cell_type": "markdown",
      "metadata": {
        "id": "wcwAwFaEwtbr"
      },
      "source": [
        "## Function 3 - np.dstack()\n",
        "\n",
        "Function for stacking arrays along the third axis(depth wise).\n",
        "\n",
        "Function calling:\n",
        "\n",
        "numpy.dstack('array')"
      ]
    },
    {
      "cell_type": "code",
      "execution_count": null,
      "metadata": {
        "colab": {
          "base_uri": "https://localhost:8080/"
        },
        "id": "eGOjSy4swtbr",
        "outputId": "eb21825e-cca3-462d-b4bd-e6cc8b81c47f"
      },
      "outputs": [
        {
          "data": {
            "text/plain": [
              "array([[[1., 2.],\n",
              "        [1., 2.],\n",
              "        [1., 2.],\n",
              "        [1., 2.],\n",
              "        [1., 2.]],\n",
              "\n",
              "       [[1., 2.],\n",
              "        [1., 2.],\n",
              "        [1., 2.],\n",
              "        [1., 2.],\n",
              "        [1., 2.]],\n",
              "\n",
              "       [[1., 2.],\n",
              "        [1., 2.],\n",
              "        [1., 2.],\n",
              "        [1., 2.],\n",
              "        [1., 2.]],\n",
              "\n",
              "       [[1., 2.],\n",
              "        [1., 2.],\n",
              "        [1., 2.],\n",
              "        [1., 2.],\n",
              "        [1., 2.]]])"
            ]
          },
          "execution_count": 28,
          "metadata": {},
          "output_type": "execute_result"
        }
      ],
      "source": [
        "# Example 1 - working\n",
        "a = np.ones([4, 5])\n",
        "b = 2 * np.ones([4, 5])\n",
        "\n",
        "np.dstack([a, b])"
      ]
    },
    {
      "cell_type": "markdown",
      "metadata": {
        "id": "BSA3DhvMwtbr"
      },
      "source": [
        "a is an array with ones arrange in a 2D array of size 4*5.\n",
        "\n",
        "b is similar to a, but with twos arranged in the same fashion.\n",
        "\n",
        "Now, when we use dstack, these two arrays are stacked along the third axis, making them into a 3D array, with the values arranged sequentially as 1, 2."
      ]
    },
    {
      "cell_type": "code",
      "execution_count": null,
      "metadata": {
        "colab": {
          "base_uri": "https://localhost:8080/"
        },
        "id": "nkp88ZOrwtbr",
        "outputId": "6c3a1b7e-21c2-482c-dd3d-7c10b4d171d5"
      },
      "outputs": [
        {
          "data": {
            "text/plain": [
              "array([[[ 1,  7],\n",
              "        [ 2,  8],\n",
              "        [ 3,  9]],\n",
              "\n",
              "       [[ 4, 10],\n",
              "        [ 5, 11],\n",
              "        [ 6, 12]]])"
            ]
          },
          "execution_count": 30,
          "metadata": {},
          "output_type": "execute_result"
        }
      ],
      "source": [
        "# Example 2 - working\n",
        "a = np.array([[1, 2, 3], [4, 5, 6]])\n",
        "b = np.array([[7, 8, 9], [10, 11, 12]])\n",
        "\n",
        "np.dstack([a, b])"
      ]
    },
    {
      "cell_type": "markdown",
      "metadata": {
        "id": "EF7BP9lDwtbs"
      },
      "source": [
        "a and b are two arrays of dimension 2*3.\n",
        "\n",
        "\n",
        "When we depth stack the arrays, we obtain a 3D array with the values of the second array placed adjacent to the first array."
      ]
    },
    {
      "cell_type": "code",
      "execution_count": null,
      "metadata": {
        "colab": {
          "base_uri": "https://localhost:8080/",
          "height": 259
        },
        "id": "EdsvplPIwtbs",
        "outputId": "b99471a0-30e7-47c9-fd66-d3ae3883b052"
      },
      "outputs": [
        {
          "ename": "ValueError",
          "evalue": "ignored",
          "output_type": "error",
          "traceback": [
            "\u001b[0;31m---------------------------------------------------------------------------\u001b[0m",
            "\u001b[0;31mValueError\u001b[0m                                Traceback (most recent call last)",
            "\u001b[0;32m<ipython-input-31-3f863daea1d5>\u001b[0m in \u001b[0;36m<cell line: 5>\u001b[0;34m()\u001b[0m\n\u001b[1;32m      3\u001b[0m \u001b[0mb\u001b[0m \u001b[0;34m=\u001b[0m \u001b[0;36m2\u001b[0m \u001b[0;34m*\u001b[0m \u001b[0mnp\u001b[0m\u001b[0;34m.\u001b[0m\u001b[0mones\u001b[0m\u001b[0;34m(\u001b[0m\u001b[0;34m[\u001b[0m\u001b[0;36m4\u001b[0m\u001b[0;34m,\u001b[0m \u001b[0;36m5\u001b[0m\u001b[0;34m]\u001b[0m\u001b[0;34m)\u001b[0m\u001b[0;34m\u001b[0m\u001b[0;34m\u001b[0m\u001b[0m\n\u001b[1;32m      4\u001b[0m \u001b[0;34m\u001b[0m\u001b[0m\n\u001b[0;32m----> 5\u001b[0;31m \u001b[0mnp\u001b[0m\u001b[0;34m.\u001b[0m\u001b[0mdstack\u001b[0m\u001b[0;34m(\u001b[0m\u001b[0;34m[\u001b[0m\u001b[0ma\u001b[0m\u001b[0;34m,\u001b[0m \u001b[0mb\u001b[0m\u001b[0;34m]\u001b[0m\u001b[0;34m)\u001b[0m\u001b[0;34m\u001b[0m\u001b[0;34m\u001b[0m\u001b[0m\n\u001b[0m",
            "\u001b[0;32m/usr/local/lib/python3.10/dist-packages/numpy/core/overrides.py\u001b[0m in \u001b[0;36mdstack\u001b[0;34m(*args, **kwargs)\u001b[0m\n",
            "\u001b[0;32m/usr/local/lib/python3.10/dist-packages/numpy/lib/shape_base.py\u001b[0m in \u001b[0;36mdstack\u001b[0;34m(tup)\u001b[0m\n\u001b[1;32m    721\u001b[0m     \u001b[0;32mif\u001b[0m \u001b[0;32mnot\u001b[0m \u001b[0misinstance\u001b[0m\u001b[0;34m(\u001b[0m\u001b[0marrs\u001b[0m\u001b[0;34m,\u001b[0m \u001b[0mlist\u001b[0m\u001b[0;34m)\u001b[0m\u001b[0;34m:\u001b[0m\u001b[0;34m\u001b[0m\u001b[0;34m\u001b[0m\u001b[0m\n\u001b[1;32m    722\u001b[0m         \u001b[0marrs\u001b[0m \u001b[0;34m=\u001b[0m \u001b[0;34m[\u001b[0m\u001b[0marrs\u001b[0m\u001b[0;34m]\u001b[0m\u001b[0;34m\u001b[0m\u001b[0;34m\u001b[0m\u001b[0m\n\u001b[0;32m--> 723\u001b[0;31m     \u001b[0;32mreturn\u001b[0m \u001b[0m_nx\u001b[0m\u001b[0;34m.\u001b[0m\u001b[0mconcatenate\u001b[0m\u001b[0;34m(\u001b[0m\u001b[0marrs\u001b[0m\u001b[0;34m,\u001b[0m \u001b[0;36m2\u001b[0m\u001b[0;34m)\u001b[0m\u001b[0;34m\u001b[0m\u001b[0;34m\u001b[0m\u001b[0m\n\u001b[0m\u001b[1;32m    724\u001b[0m \u001b[0;34m\u001b[0m\u001b[0m\n\u001b[1;32m    725\u001b[0m \u001b[0;34m\u001b[0m\u001b[0m\n",
            "\u001b[0;32m/usr/local/lib/python3.10/dist-packages/numpy/core/overrides.py\u001b[0m in \u001b[0;36mconcatenate\u001b[0;34m(*args, **kwargs)\u001b[0m\n",
            "\u001b[0;31mValueError\u001b[0m: all the input array dimensions for the concatenation axis must match exactly, but along dimension 1, the array at index 0 has size 6 and the array at index 1 has size 5"
          ]
        }
      ],
      "source": [
        "# Example 3 - breaking (to illustrate when it breaks)\n",
        "a = np.ones([4, 6])\n",
        "b = 2 * np.ones([4, 5])\n",
        "\n",
        "np.dstack([a, b])"
      ]
    },
    {
      "cell_type": "markdown",
      "metadata": {
        "id": "QaKO_Gddwtbs"
      },
      "source": [
        "Similar to other array operations involving two arrays, the size of the arrays should be the same to depth stack them against each other."
      ]
    },
    {
      "cell_type": "markdown",
      "metadata": {
        "id": "825kfUIUwtbs"
      },
      "source": [
        "Useful for combining two arrays in a non-linear sense."
      ]
    },
    {
      "cell_type": "code",
      "execution_count": null,
      "metadata": {
        "colab": {
          "base_uri": "https://localhost:8080/"
        },
        "id": "VwOaX4T9wtbs",
        "outputId": "fea0e1e6-b888-40da-f025-29b3d89b74b6"
      },
      "outputs": [
        {
          "name": "stdout",
          "output_type": "stream",
          "text": [
            "[jovian] Detected Colab notebook...\u001b[0m\n",
            "[jovian] jovian.commit() is no longer required on Google Colab. If you ran this notebook from Jovian, \n",
            "then just save this file in Colab using Ctrl+S/Cmd+S and it will be updated on Jovian. \n",
            "Also, you can also delete this cell, it's no longer necessary.\u001b[0m\n"
          ]
        }
      ],
      "source": [
        "jovian.commit()"
      ]
    },
    {
      "cell_type": "markdown",
      "metadata": {
        "id": "AmCbVWnVwtbs"
      },
      "source": [
        "## Function 4 - numpy.bitwise_xor()\n",
        "\n",
        "Function for computing bit-wise XOR of two arrays.\n",
        "\n",
        "\n",
        "Function calling:\n",
        "\n",
        "\n",
        "numpy.bitwise_xor(array1, array2)"
      ]
    },
    {
      "cell_type": "code",
      "execution_count": null,
      "metadata": {
        "colab": {
          "base_uri": "https://localhost:8080/"
        },
        "id": "TDuUoiL9wtbs",
        "outputId": "b7f7ab1f-956b-41e4-dbb2-d5dc17e3c01c"
      },
      "outputs": [
        {
          "data": {
            "text/plain": [
              "array([[ 4,  5],\n",
              "       [ 5, 12]])"
            ]
          },
          "execution_count": 4,
          "metadata": {},
          "output_type": "execute_result"
        }
      ],
      "source": [
        "# Example 1 - working\n",
        "a = np.array([[1, 3], [2, 4]])\n",
        "b = np.array([[5, 6], [7, 8]])\n",
        "\n",
        "np.bitwise_xor(a, b)"
      ]
    },
    {
      "cell_type": "markdown",
      "metadata": {
        "id": "2lg5pekAwtbs"
      },
      "source": [
        "XOR operation between two bits gives a 1 if the bits are different, and gives a 0 if the bits are the same.\n",
        "\n",
        "\n",
        "Arrays a and b are 2*2 sized 2D arrays. The operation happens element-wise, meaning, it happens between a[0][0] and b[0][0], a[0][1] and b[0][1] and so on.\n",
        "\n",
        "\n",
        "For example, we have a[0][0] = 1 = 001 and b[0][0] = 5 = 101. XOR operation gives 100 = 4.\n",
        "\n",
        "\n",
        "The same process repeated for all the elements gives an array [4, 5, 5, 12] as the result."
      ]
    },
    {
      "cell_type": "code",
      "execution_count": null,
      "metadata": {
        "colab": {
          "base_uri": "https://localhost:8080/"
        },
        "id": "TcrzOnjywtbs",
        "outputId": "ce1855be-cee6-4146-aa6e-da7caa47f460"
      },
      "outputs": [
        {
          "data": {
            "text/plain": [
              "array([ True, False])"
            ]
          },
          "execution_count": 5,
          "metadata": {},
          "output_type": "execute_result"
        }
      ],
      "source": [
        "# Example 2 - working\n",
        "x1 = np.array([True, True])\n",
        "x2 = np.array([False, True])\n",
        "x1 ^ x2"
      ]
    },
    {
      "cell_type": "markdown",
      "metadata": {
        "id": "7zyCTMP9wtbs"
      },
      "source": [
        "XOR operation between True and False gives True, since the boolean values are different. Similarly, we get a False if both the Boolean values are the same.\n",
        "\n",
        "\n",
        "Hence, the result in this case would be [True, False]"
      ]
    },
    {
      "cell_type": "code",
      "execution_count": null,
      "metadata": {
        "colab": {
          "base_uri": "https://localhost:8080/",
          "height": 200
        },
        "id": "pQklChrcwtbx",
        "outputId": "01e9f7a6-b2e8-4731-be55-ac375fa16b40"
      },
      "outputs": [
        {
          "ename": "ValueError",
          "evalue": "ignored",
          "output_type": "error",
          "traceback": [
            "\u001b[0;31m---------------------------------------------------------------------------\u001b[0m",
            "\u001b[0;31mValueError\u001b[0m                                Traceback (most recent call last)",
            "\u001b[0;32m<ipython-input-6-f3b4390961fc>\u001b[0m in \u001b[0;36m<cell line: 5>\u001b[0;34m()\u001b[0m\n\u001b[1;32m      3\u001b[0m \u001b[0mb\u001b[0m \u001b[0;34m=\u001b[0m \u001b[0mnp\u001b[0m\u001b[0;34m.\u001b[0m\u001b[0marray\u001b[0m\u001b[0;34m(\u001b[0m\u001b[0;34m[\u001b[0m\u001b[0;34m[\u001b[0m\u001b[0;36m2\u001b[0m\u001b[0;34m,\u001b[0m \u001b[0;36m5\u001b[0m\u001b[0;34m]\u001b[0m\u001b[0;34m,\u001b[0m \u001b[0;34m[\u001b[0m\u001b[0;36m4\u001b[0m\u001b[0;34m,\u001b[0m \u001b[0;36m7\u001b[0m\u001b[0;34m]\u001b[0m\u001b[0;34m]\u001b[0m\u001b[0;34m)\u001b[0m\u001b[0;34m\u001b[0m\u001b[0;34m\u001b[0m\u001b[0m\n\u001b[1;32m      4\u001b[0m \u001b[0;34m\u001b[0m\u001b[0m\n\u001b[0;32m----> 5\u001b[0;31m \u001b[0mnp\u001b[0m\u001b[0;34m.\u001b[0m\u001b[0mbitwise_xor\u001b[0m\u001b[0;34m(\u001b[0m\u001b[0ma\u001b[0m\u001b[0;34m,\u001b[0m \u001b[0mb\u001b[0m\u001b[0;34m)\u001b[0m\u001b[0;34m\u001b[0m\u001b[0;34m\u001b[0m\u001b[0m\n\u001b[0m",
            "\u001b[0;31mValueError\u001b[0m: operands could not be broadcast together with shapes (2,3) (2,2) "
          ]
        }
      ],
      "source": [
        "# Example 3 - breaking (to illustrate when it breaks)\n",
        "a = np.array([[1, 2, 3], [4, 5, 6]])\n",
        "b = np.array([[2, 5], [4, 7]])\n",
        "\n",
        "np.bitwise_xor(a, b)"
      ]
    },
    {
      "cell_type": "markdown",
      "metadata": {
        "id": "x1NLdgXjwtbx"
      },
      "source": [
        "Since the XOR operation happens element-wise, the size of the arrays should be the same."
      ]
    },
    {
      "cell_type": "markdown",
      "metadata": {
        "id": "Y0An4mJc46AC"
      },
      "source": [
        "This function can be used to save time and effort wherever we need to perform bit operations, in this case, XOR operation."
      ]
    },
    {
      "cell_type": "code",
      "execution_count": null,
      "metadata": {
        "colab": {
          "base_uri": "https://localhost:8080/"
        },
        "id": "SUlpCB1Lwtbx",
        "outputId": "88a14dc1-8d45-40a9-ce61-2899e4eec405"
      },
      "outputs": [
        {
          "name": "stdout",
          "output_type": "stream",
          "text": [
            "[jovian] Detected Colab notebook...\u001b[0m\n",
            "[jovian] jovian.commit() is no longer required on Google Colab. If you ran this notebook from Jovian, \n",
            "then just save this file in Colab using Ctrl+S/Cmd+S and it will be updated on Jovian. \n",
            "Also, you can also delete this cell, it's no longer necessary.\u001b[0m\n"
          ]
        }
      ],
      "source": [
        "jovian.commit()"
      ]
    },
    {
      "cell_type": "markdown",
      "metadata": {
        "id": "0u0-cWZFwtbx"
      },
      "source": [
        "## Function 5 - numpy.matmul()\n",
        "\n",
        "Used for matrix multiplication between two matrices.\n",
        "\n",
        "\n",
        "Function Calling: np.matmul(array1, array2)"
      ]
    },
    {
      "cell_type": "code",
      "execution_count": null,
      "metadata": {
        "colab": {
          "base_uri": "https://localhost:8080/"
        },
        "id": "WpOpFe4Kwtby",
        "outputId": "8a2db4e3-772c-4047-8c4c-a2ee97580680"
      },
      "outputs": [
        {
          "data": {
            "text/plain": [
              "array([[4, 1],\n",
              "       [2, 2]])"
            ]
          },
          "execution_count": 8,
          "metadata": {},
          "output_type": "execute_result"
        }
      ],
      "source": [
        "# Example 1 - working\n",
        "a = np.array([[1, 0],\n",
        "              [0, 1]])\n",
        "b = np.array([[4, 1],\n",
        "              [2, 2]])\n",
        "np.matmul(a, b)"
      ]
    },
    {
      "cell_type": "markdown",
      "metadata": {
        "id": "zIdmQ5vbwtby"
      },
      "source": [
        "For the above case, the first element[0][0] of the matrix multiplication would be the sum of the product of (1, 4) and (0, 2), which is 4.\n",
        "\n",
        "\n",
        "Similarly, [0][1] would be sum of (1, 1) and (0, 2), which is 1.\n",
        "\n",
        "\n",
        "Hence, the final array would be [[4, 1], [2, 2]]."
      ]
    },
    {
      "cell_type": "code",
      "execution_count": null,
      "metadata": {
        "colab": {
          "base_uri": "https://localhost:8080/"
        },
        "id": "g_rS_cCvwtby",
        "outputId": "e651c90f-6c4c-4b71-c873-a18c420309e9"
      },
      "outputs": [
        {
          "data": {
            "text/plain": [
              "array([1, 2])"
            ]
          },
          "execution_count": 10,
          "metadata": {},
          "output_type": "execute_result"
        }
      ],
      "source": [
        "# Example 2 - working\n",
        "a = np.array([[1, 0],\n",
        "              [0, 1]])\n",
        "b = np.array([1, 2])\n",
        "\n",
        "np.matmul(a, b)"
      ]
    },
    {
      "cell_type": "markdown",
      "metadata": {
        "id": "l_Y1ZcZQwtby"
      },
      "source": [
        "Matrix multiplication can be done on 2 arrays if the column size of the first array is equal to the row size of the second array, which is satisifed in the above case of multiplication between a 2D and a 1D array."
      ]
    },
    {
      "cell_type": "code",
      "execution_count": null,
      "metadata": {
        "colab": {
          "base_uri": "https://localhost:8080/",
          "height": 182
        },
        "id": "0fYQwUoQwtby",
        "outputId": "6553d285-2b77-4741-95ed-ad9016391ae4"
      },
      "outputs": [
        {
          "ename": "ValueError",
          "evalue": "ignored",
          "output_type": "error",
          "traceback": [
            "\u001b[0;31m---------------------------------------------------------------------------\u001b[0m",
            "\u001b[0;31mValueError\u001b[0m                                Traceback (most recent call last)",
            "\u001b[0;32m<ipython-input-11-66a3a250bad8>\u001b[0m in \u001b[0;36m<cell line: 2>\u001b[0;34m()\u001b[0m\n\u001b[1;32m      1\u001b[0m \u001b[0;31m# Example 3 - breaking (to illustrate when it breaks)\u001b[0m\u001b[0;34m\u001b[0m\u001b[0;34m\u001b[0m\u001b[0m\n\u001b[0;32m----> 2\u001b[0;31m \u001b[0mnp\u001b[0m\u001b[0;34m.\u001b[0m\u001b[0mmatmul\u001b[0m\u001b[0;34m(\u001b[0m\u001b[0;34m[\u001b[0m\u001b[0;36m1\u001b[0m\u001b[0;34m,\u001b[0m\u001b[0;36m2\u001b[0m\u001b[0;34m]\u001b[0m\u001b[0;34m,\u001b[0m \u001b[0;36m3\u001b[0m\u001b[0;34m)\u001b[0m\u001b[0;34m\u001b[0m\u001b[0;34m\u001b[0m\u001b[0m\n\u001b[0m",
            "\u001b[0;31mValueError\u001b[0m: matmul: Input operand 1 does not have enough dimensions (has 0, gufunc core with signature (n?,k),(k,m?)->(n?,m?) requires 1)"
          ]
        }
      ],
      "source": [
        "# Example 3 - breaking (to illustrate when it breaks)\n",
        "np.matmul([1,2], 3)"
      ]
    },
    {
      "cell_type": "markdown",
      "metadata": {
        "id": "x6Rl72Jtwtby"
      },
      "source": [
        "Normal multiplication with a scalar is not possible in matrix multiplication. One solution wuld be to broadcast the scalar to an array."
      ]
    },
    {
      "cell_type": "markdown",
      "metadata": {
        "id": "KvVDGWo8wtby"
      },
      "source": [
        "Useful for performing matrix multiplication between two arrays without needing to write any code for doing the same."
      ]
    },
    {
      "cell_type": "code",
      "execution_count": null,
      "metadata": {
        "colab": {
          "base_uri": "https://localhost:8080/"
        },
        "id": "N36nege8wtby",
        "outputId": "c559f7cd-9929-4b20-f81a-bfcaeca34682"
      },
      "outputs": [
        {
          "name": "stdout",
          "output_type": "stream",
          "text": [
            "[jovian] Detected Colab notebook...\u001b[0m\n",
            "[jovian] jovian.commit() is no longer required on Google Colab. If you ran this notebook from Jovian, \n",
            "then just save this file in Colab using Ctrl+S/Cmd+S and it will be updated on Jovian. \n",
            "Also, you can also delete this cell, it's no longer necessary.\u001b[0m\n"
          ]
        }
      ],
      "source": [
        "jovian.commit()"
      ]
    },
    {
      "cell_type": "markdown",
      "metadata": {
        "id": "OVEb9daPwtbz"
      },
      "source": [
        "## Conclusion\n",
        "\n",
        "We have learnt the use of numpy library, and the features of many of its functions"
      ]
    },
    {
      "cell_type": "markdown",
      "metadata": {
        "id": "rDoNjqCcwtbz"
      },
      "source": [
        "## Reference Links\n",
        "Provide links to your references and other interesting articles about Numpy arrays:\n",
        "* Numpy official tutorial : https://numpy.org/doc/stable/user/quickstart.html\n",
        "* Numpy GeeksforGeeks: https://www.geeksforgeeks.org/python-numpy/"
      ]
    },
    {
      "cell_type": "code",
      "execution_count": null,
      "metadata": {
        "colab": {
          "base_uri": "https://localhost:8080/"
        },
        "id": "S_PvnpwUwtbz",
        "outputId": "4e504684-4390-493a-e951-6f5b2af67b01"
      },
      "outputs": [
        {
          "name": "stdout",
          "output_type": "stream",
          "text": [
            "[jovian] Detected Colab notebook...\u001b[0m\n",
            "[jovian] jovian.commit() is no longer required on Google Colab. If you ran this notebook from Jovian, \n",
            "then just save this file in Colab using Ctrl+S/Cmd+S and it will be updated on Jovian. \n",
            "Also, you can also delete this cell, it's no longer necessary.\u001b[0m\n"
          ]
        }
      ],
      "source": [
        "jovian.commit()"
      ]
    }
  ],
  "metadata": {
    "colab": {
      "provenance": [],
      "include_colab_link": true
    },
    "kernelspec": {
      "display_name": "Python 3",
      "language": "python",
      "name": "python3"
    },
    "language_info": {
      "codemirror_mode": {
        "name": "ipython",
        "version": 3
      },
      "file_extension": ".py",
      "mimetype": "text/x-python",
      "name": "python",
      "nbconvert_exporter": "python",
      "pygments_lexer": "ipython3",
      "version": "3.8.6"
    }
  },
  "nbformat": 4,
  "nbformat_minor": 0
}