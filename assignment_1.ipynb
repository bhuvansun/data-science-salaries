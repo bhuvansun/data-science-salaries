{
  "cells": [
    {
      "cell_type": "markdown",
      "metadata": {
        "id": "view-in-github",
        "colab_type": "text"
      },
      "source": [
        "<a href=\"https://colab.research.google.com/github/bhuvansun/data-science-salaries/blob/main/assignment_1.ipynb\" target=\"_parent\"><img src=\"https://colab.research.google.com/assets/colab-badge.svg\" alt=\"Open In Colab\"/></a>"
      ]
    },
    {
      "cell_type": "markdown",
      "metadata": {
        "id": "l_OzICqFnlLF"
      },
      "source": [
        "# assignment-1\n",
        "\n",
        "Use the \"Run\" button to execute the code."
      ]
    },
    {
      "cell_type": "markdown",
      "metadata": {
        "id": "Xkvbd6imnlLQ"
      },
      "source": [
        "# Problem-1"
      ]
    },
    {
      "cell_type": "markdown",
      "metadata": {
        "id": "o1BKeDKZnlLS"
      },
      "source": [
        "Question-1"
      ]
    },
    {
      "cell_type": "code",
      "execution_count": null,
      "metadata": {
        "id": "gJWFHPngnlLT"
      },
      "outputs": [],
      "source": [
        "name = \"Thribhuvan Sunkavalli\""
      ]
    },
    {
      "cell_type": "markdown",
      "metadata": {
        "id": "wdjTfhylnlLV"
      },
      "source": [
        "Question-2"
      ]
    },
    {
      "cell_type": "code",
      "execution_count": null,
      "metadata": {
        "id": "iNTcGuUonlLW"
      },
      "outputs": [],
      "source": [
        "age = 19"
      ]
    },
    {
      "cell_type": "markdown",
      "metadata": {
        "id": "6Qc0NBoQnlLX"
      },
      "source": [
        "Question-3"
      ]
    },
    {
      "cell_type": "code",
      "execution_count": null,
      "metadata": {
        "id": "fcby8ZX2nlLY"
      },
      "outputs": [],
      "source": [
        "has_android_phone = True"
      ]
    },
    {
      "cell_type": "code",
      "execution_count": null,
      "metadata": {
        "id": "naspZRqanlLa",
        "outputId": "44067df4-9f62-4121-f203-63b82ec4c8f1"
      },
      "outputs": [
        {
          "data": {
            "text/plain": [
              "('Thribhuvan Sunkavalli', 19, True)"
            ]
          },
          "execution_count": 4,
          "metadata": {},
          "output_type": "execute_result"
        }
      ],
      "source": [
        "name, age, has_android_phone"
      ]
    },
    {
      "cell_type": "markdown",
      "metadata": {
        "id": "wMk6-zTAnlLc"
      },
      "source": [
        "Question-4"
      ]
    },
    {
      "cell_type": "code",
      "execution_count": null,
      "metadata": {
        "id": "BSX0pvHnnlLd"
      },
      "outputs": [],
      "source": [
        "person = {'Name':'Thribhuvan Sunkavalli', 'Age':19, 'HasAndroidPhone':True}"
      ]
    },
    {
      "cell_type": "code",
      "execution_count": null,
      "metadata": {
        "id": "2MwmXsIqnlLe",
        "outputId": "cacfc7e3-8f7c-49f9-b73a-29b6014c3883"
      },
      "outputs": [
        {
          "name": "stdout",
          "output_type": "stream",
          "text": [
            "Thribhuvan Sunkavalli is aged 19, and owns an Android phone.\n"
          ]
        }
      ],
      "source": [
        "print(\"{} is aged {}, and owns an {}.\".format(\n",
        "    person[\"Name\"],\n",
        "    person[\"Age\"],\n",
        "    \"Android phone\" if person[\"HasAndroidPhone\"] else \"iPhone\"\n",
        "))"
      ]
    },
    {
      "cell_type": "code",
      "execution_count": null,
      "metadata": {
        "id": "7q3flzFznlLf",
        "outputId": "c27cabca-d3c9-4dd8-b9e6-b6bae5c11be6"
      },
      "outputs": [
        {
          "name": "stdout",
          "output_type": "stream",
          "text": [
            "The key Name has the value Thribhuvan Sunkavalli of the type <class 'str'>\n",
            "The key Age has the value 19 of the type <class 'int'>\n",
            "The key HasAndroidPhone has the value True of the type <class 'bool'>\n"
          ]
        }
      ],
      "source": [
        "#optional\n",
        "for key in person:\n",
        "    print(\"The key {} has the value {} of the type {}\" .format(key, person[key], type(person[key])))"
      ]
    },
    {
      "cell_type": "code",
      "execution_count": null,
      "metadata": {
        "id": "uHaK0arfnlLf",
        "outputId": "2300ce94-b8c7-4fd6-952b-9a3da8e8d1e7"
      },
      "outputs": [
        {
          "data": {
            "application/javascript": [
              "window.require && require([\"base/js/namespace\"],function(Jupyter){Jupyter.notebook.save_checkpoint()})"
            ],
            "text/plain": [
              "<IPython.core.display.Javascript object>"
            ]
          },
          "metadata": {},
          "output_type": "display_data"
        },
        {
          "name": "stdout",
          "output_type": "stream",
          "text": [
            "[jovian] Updating notebook \"bhuvan2k3/assignment-1\" on https://jovian.com\u001b[0m\n",
            "[jovian] Committed successfully! https://jovian.com/bhuvan2k3/assignment-1\u001b[0m\n"
          ]
        },
        {
          "data": {
            "text/plain": [
              "'https://jovian.com/bhuvan2k3/assignment-1'"
            ]
          },
          "execution_count": 12,
          "metadata": {},
          "output_type": "execute_result"
        }
      ],
      "source": [
        "jovian.commit()"
      ]
    },
    {
      "cell_type": "markdown",
      "metadata": {
        "id": "QH05OXQ_nlLg"
      },
      "source": [
        "# Problem-2"
      ]
    },
    {
      "cell_type": "markdown",
      "metadata": {
        "id": "kOSwddLwnlLg"
      },
      "source": [
        "Question-5"
      ]
    },
    {
      "cell_type": "code",
      "execution_count": null,
      "metadata": {
        "id": "_J9ysQDMnlLg"
      },
      "outputs": [],
      "source": [
        "my_list = ['Blue', 0, True]"
      ]
    },
    {
      "cell_type": "code",
      "execution_count": null,
      "metadata": {
        "id": "jzG1kfWXnlLg",
        "outputId": "da80f2f9-b015-4006-cbf3-8acb586a5084"
      },
      "outputs": [
        {
          "data": {
            "text/plain": [
              "['Blue', 0, True]"
            ]
          },
          "execution_count": 14,
          "metadata": {},
          "output_type": "execute_result"
        }
      ],
      "source": [
        "my_list"
      ]
    },
    {
      "cell_type": "markdown",
      "metadata": {
        "id": "aQ8-LU9WnlLh"
      },
      "source": [
        "Question-6"
      ]
    },
    {
      "cell_type": "code",
      "execution_count": null,
      "metadata": {
        "id": "xBkd3TJ8nlLh",
        "outputId": "285808f2-4cce-4905-fe74-ab0abdb28920"
      },
      "outputs": [
        {
          "name": "stdout",
          "output_type": "stream",
          "text": [
            "My favorite color is Blue\n"
          ]
        }
      ],
      "source": [
        "print('My favorite color is', my_list[0])"
      ]
    },
    {
      "cell_type": "code",
      "execution_count": null,
      "metadata": {
        "id": "dTiFSZ3CnlLh",
        "outputId": "4e0952fc-2eab-446d-b5b8-b83bea97f365"
      },
      "outputs": [
        {
          "name": "stdout",
          "output_type": "stream",
          "text": [
            "I have 0 pet(s).\n"
          ]
        }
      ],
      "source": [
        "print('I have {} pet(s).'.format(my_list[1]))"
      ]
    },
    {
      "cell_type": "code",
      "execution_count": null,
      "metadata": {
        "id": "mYLpbDoxnlLi",
        "outputId": "61358e79-8f1f-4650-f9ce-d731c83a205c"
      },
      "outputs": [
        {
          "name": "stdout",
          "output_type": "stream",
          "text": [
            "I have previous programming experience\n"
          ]
        }
      ],
      "source": [
        "if my_list[2] == True:\n",
        "    print(\"I have previous programming experience\")\n",
        "else:\n",
        "    print(\"I do not have previous programming experience\")"
      ]
    },
    {
      "cell_type": "markdown",
      "metadata": {
        "id": "v_GHpAfUnlLi"
      },
      "source": [
        "Question-7"
      ]
    },
    {
      "cell_type": "code",
      "execution_count": null,
      "metadata": {
        "id": "pNfWLx9SnlLi"
      },
      "outputs": [],
      "source": [
        "my_list.append(4)"
      ]
    },
    {
      "cell_type": "code",
      "execution_count": null,
      "metadata": {
        "id": "1s9VfjugnlLj",
        "outputId": "5c10555c-5299-4eb4-cbaf-f7de38af35fb"
      },
      "outputs": [
        {
          "data": {
            "text/plain": [
              "['Blue', 0, True, 4]"
            ]
          },
          "execution_count": 19,
          "metadata": {},
          "output_type": "execute_result"
        }
      ],
      "source": [
        "my_list"
      ]
    },
    {
      "cell_type": "markdown",
      "metadata": {
        "id": "ESuxWbi9nlLj"
      },
      "source": [
        "Question-8"
      ]
    },
    {
      "cell_type": "code",
      "execution_count": null,
      "metadata": {
        "id": "q42xhPwYnlLj",
        "outputId": "1f0616e8-299c-42bc-e24a-ec16148990c9"
      },
      "outputs": [
        {
          "data": {
            "text/plain": [
              "'Blue'"
            ]
          },
          "execution_count": 20,
          "metadata": {},
          "output_type": "execute_result"
        }
      ],
      "source": [
        "my_list.pop(0)"
      ]
    },
    {
      "cell_type": "code",
      "execution_count": null,
      "metadata": {
        "id": "IghVwBH0nlLk",
        "outputId": "4249d01a-914e-4d35-8107-e505ad28a015"
      },
      "outputs": [
        {
          "data": {
            "text/plain": [
              "[0, True, 4]"
            ]
          },
          "execution_count": 21,
          "metadata": {},
          "output_type": "execute_result"
        }
      ],
      "source": [
        "my_list"
      ]
    },
    {
      "cell_type": "markdown",
      "metadata": {
        "id": "zbD7oN07nlLk"
      },
      "source": [
        "Question-9"
      ]
    },
    {
      "cell_type": "code",
      "execution_count": null,
      "metadata": {
        "id": "jJobsQq4nlLl",
        "outputId": "388666e1-1f2a-465b-fd45-02bfebb3eddd"
      },
      "outputs": [
        {
          "name": "stdout",
          "output_type": "stream",
          "text": [
            "The list has 3 elements.\n"
          ]
        }
      ],
      "source": [
        "print(\"The list has {} elements.\".format(len(my_list)))"
      ]
    },
    {
      "cell_type": "code",
      "execution_count": null,
      "metadata": {
        "id": "Q3JhO9xvnlLl",
        "outputId": "7d2bf7b9-67c9-485d-d6ca-ffed0017cd1f"
      },
      "outputs": [
        {
          "data": {
            "application/javascript": [
              "window.require && require([\"base/js/namespace\"],function(Jupyter){Jupyter.notebook.save_checkpoint()})"
            ],
            "text/plain": [
              "<IPython.core.display.Javascript object>"
            ]
          },
          "metadata": {},
          "output_type": "display_data"
        },
        {
          "name": "stdout",
          "output_type": "stream",
          "text": [
            "[jovian] Updating notebook \"bhuvan2k3/assignment-1\" on https://jovian.com\u001b[0m\n",
            "[jovian] Committed successfully! https://jovian.com/bhuvan2k3/assignment-1\u001b[0m\n"
          ]
        },
        {
          "data": {
            "text/plain": [
              "'https://jovian.com/bhuvan2k3/assignment-1'"
            ]
          },
          "execution_count": 25,
          "metadata": {},
          "output_type": "execute_result"
        }
      ],
      "source": [
        "jovian.commit(project='assignment-1',environment=None)"
      ]
    },
    {
      "cell_type": "markdown",
      "metadata": {
        "id": "tpqZIlnEnlLm"
      },
      "source": [
        "# Probem-3"
      ]
    },
    {
      "cell_type": "markdown",
      "metadata": {
        "id": "mHEkvGehnlLm"
      },
      "source": [
        "Question-10"
      ]
    },
    {
      "cell_type": "code",
      "execution_count": null,
      "metadata": {
        "id": "qbN-SEztnlLm"
      },
      "outputs": [],
      "source": [
        "sum_of_numbers = 0\n",
        "\n",
        "for i in range(18, 534+1):\n",
        "    if i % 7 == 0:\n",
        "        sum_of_numbers += i"
      ]
    },
    {
      "cell_type": "code",
      "execution_count": null,
      "metadata": {
        "id": "pEY0ysSenlLn",
        "outputId": "a8074ba9-8a1e-48fa-877a-a5055cff67b6"
      },
      "outputs": [
        {
          "name": "stdout",
          "output_type": "stream",
          "text": [
            "The sum of all the numbers divisible by 7 between 18 and 534 is 20461\n"
          ]
        }
      ],
      "source": [
        "print('The sum of all the numbers divisible by 7 between 18 and 534 is', sum_of_numbers)"
      ]
    },
    {
      "cell_type": "code",
      "execution_count": null,
      "metadata": {
        "id": "1M5bFUvpnlLn",
        "outputId": "70a7992d-35db-47ca-881c-bcb6fec8381c"
      },
      "outputs": [
        {
          "data": {
            "application/javascript": [
              "window.require && require([\"base/js/namespace\"],function(Jupyter){Jupyter.notebook.save_checkpoint()})"
            ],
            "text/plain": [
              "<IPython.core.display.Javascript object>"
            ]
          },
          "metadata": {},
          "output_type": "display_data"
        },
        {
          "name": "stdout",
          "output_type": "stream",
          "text": [
            "[jovian] Updating notebook \"bhuvan2k3/assignment-1\" on https://jovian.com\u001b[0m\n",
            "[jovian] Committed successfully! https://jovian.com/bhuvan2k3/assignment-1\u001b[0m\n"
          ]
        },
        {
          "data": {
            "text/plain": [
              "'https://jovian.com/bhuvan2k3/assignment-1'"
            ]
          },
          "execution_count": 28,
          "metadata": {},
          "output_type": "execute_result"
        }
      ],
      "source": [
        "jovian.commit(project='assignment-1',environment=None)"
      ]
    },
    {
      "cell_type": "markdown",
      "metadata": {
        "id": "BEwxgr5KnlLo"
      },
      "source": [
        "# Problem-4"
      ]
    },
    {
      "cell_type": "markdown",
      "metadata": {
        "id": "Zb9SayG6nlLq"
      },
      "source": [
        "Question-11"
      ]
    },
    {
      "cell_type": "code",
      "execution_count": null,
      "metadata": {
        "id": "DwdMGbqhnlLq"
      },
      "outputs": [],
      "source": [
        "cost_of_flying_plane = 5000"
      ]
    },
    {
      "cell_type": "code",
      "execution_count": null,
      "metadata": {
        "id": "DquEEeZcnlL7"
      },
      "outputs": [],
      "source": [
        "number_of_passengers = 29"
      ]
    },
    {
      "cell_type": "code",
      "execution_count": null,
      "metadata": {
        "id": "MpjRFFiFnlL8"
      },
      "outputs": [],
      "source": [
        "price_of_ticket = 200"
      ]
    },
    {
      "cell_type": "code",
      "execution_count": null,
      "metadata": {
        "id": "Bbpp7aPsnlL9"
      },
      "outputs": [],
      "source": [
        "profit = (number_of_passengers * price_of_ticket) - cost_of_flying_plane"
      ]
    },
    {
      "cell_type": "code",
      "execution_count": null,
      "metadata": {
        "id": "bcufo6NUnlL9",
        "outputId": "b6bfc88e-0c1c-4439-b6c7-5d91bb9e4876"
      },
      "outputs": [
        {
          "name": "stdout",
          "output_type": "stream",
          "text": [
            "The company makes of a profit of 800 dollars\n"
          ]
        }
      ],
      "source": [
        "print('The company makes of a profit of {} dollars'.format(profit))"
      ]
    },
    {
      "cell_type": "code",
      "execution_count": null,
      "metadata": {
        "id": "LdwbKu2BnlL-"
      },
      "outputs": [],
      "source": [
        "#this is optional\n",
        "overall_cost = 10000\n",
        "overall_price = (29*200) + (12*200)\n",
        "profit_loss = overall_price - overall_cost"
      ]
    },
    {
      "cell_type": "code",
      "execution_count": null,
      "metadata": {
        "id": "X9gnQoWgnlL-",
        "outputId": "d90364ed-c95d-45f9-df21-2e8fad85fc9d"
      },
      "outputs": [
        {
          "name": "stdout",
          "output_type": "stream",
          "text": [
            "The company makes an overall loss of 1800 dollars\n"
          ]
        }
      ],
      "source": [
        "# this is optional\n",
        "if profit_loss >= 0:\n",
        "    print(\"The company makes an overall profit of {} dollars\".format(profit_loss))\n",
        "else:\n",
        "    print(\"The company makes an overall loss of {} dollars\".format(abs(profit_loss)))"
      ]
    },
    {
      "cell_type": "code",
      "execution_count": null,
      "metadata": {
        "id": "OB0rEVF1nlL-",
        "outputId": "e73f62a0-9fdd-45ed-ad32-be768d703f75"
      },
      "outputs": [
        {
          "data": {
            "application/javascript": [
              "window.require && require([\"base/js/namespace\"],function(Jupyter){Jupyter.notebook.save_checkpoint()})"
            ],
            "text/plain": [
              "<IPython.core.display.Javascript object>"
            ]
          },
          "metadata": {},
          "output_type": "display_data"
        },
        {
          "name": "stdout",
          "output_type": "stream",
          "text": [
            "[jovian] Updating notebook \"bhuvan2k3/assignment-1\" on https://jovian.com\u001b[0m\n",
            "[jovian] Committed successfully! https://jovian.com/bhuvan2k3/assignment-1\u001b[0m\n"
          ]
        },
        {
          "data": {
            "text/plain": [
              "'https://jovian.com/bhuvan2k3/assignment-1'"
            ]
          },
          "execution_count": 4,
          "metadata": {},
          "output_type": "execute_result"
        }
      ],
      "source": [
        "jovian.commit(project='assignment-1',environment=None)"
      ]
    },
    {
      "cell_type": "markdown",
      "metadata": {
        "id": "nSGwNZ6ZnlL_"
      },
      "source": [
        "# Problem-5"
      ]
    },
    {
      "cell_type": "code",
      "execution_count": null,
      "metadata": {
        "id": "6xL3Z4PTnlL_"
      },
      "outputs": [],
      "source": [
        "tweets = [\n",
        "    \"Wow, what a great day today!! #sunshine\",\n",
        "    \"I feel sad about the things going on around us. #covid19\",\n",
        "    \"I'm really excited to learn Python with @JovianML #zerotopandas\",\n",
        "    \"This is a really nice song. #linkinpark\",\n",
        "    \"The python programming language is useful for data science\",\n",
        "    \"Why do bad things happen to me?\",\n",
        "    \"Apple announces the release of the new iPhone 12. Fans are excited.\",\n",
        "    \"Spent my day with family!! #happy\",\n",
        "    \"Check out my blog post on common string operations in Python. #zerotopandas\",\n",
        "    \"Freecodecamp has great coding tutorials. #skillup\"\n",
        "]"
      ]
    },
    {
      "cell_type": "markdown",
      "metadata": {
        "id": "HLXxgO3znlMA"
      },
      "source": [
        "Question-12"
      ]
    },
    {
      "cell_type": "code",
      "execution_count": null,
      "metadata": {
        "id": "6geQjpMYnlMA",
        "outputId": "10bb4ce9-b153-4ac1-f6b8-0ed3ef23eb9e"
      },
      "outputs": [
        {
          "data": {
            "text/plain": [
              "10"
            ]
          },
          "execution_count": 10,
          "metadata": {},
          "output_type": "execute_result"
        }
      ],
      "source": [
        "number_of_tweets = len(tweets)\n",
        "number_of_tweets"
      ]
    },
    {
      "cell_type": "code",
      "execution_count": null,
      "metadata": {
        "id": "DhS8nU8SnlMA"
      },
      "outputs": [],
      "source": [
        "happy_words = ['great', 'excited', 'happy', 'nice', 'wonderful', 'amazing', 'good', 'best']"
      ]
    },
    {
      "cell_type": "code",
      "execution_count": null,
      "metadata": {
        "id": "AZOSmXvUnlMB"
      },
      "outputs": [],
      "source": [
        "sad_words = ['sad', 'bad', 'tragic', 'unhappy', 'worst']"
      ]
    },
    {
      "cell_type": "code",
      "execution_count": null,
      "metadata": {
        "id": "B0MJsOdpnlMB"
      },
      "outputs": [],
      "source": [
        "sample_tweet = tweets[0]"
      ]
    },
    {
      "cell_type": "code",
      "execution_count": null,
      "metadata": {
        "id": "3pO_OG--nlMB",
        "outputId": "561d34dc-62dd-403d-dd8d-e321c79745a1"
      },
      "outputs": [
        {
          "data": {
            "text/plain": [
              "'Wow, what a great day today!! #sunshine'"
            ]
          },
          "execution_count": 8,
          "metadata": {},
          "output_type": "execute_result"
        }
      ],
      "source": [
        "sample_tweet"
      ]
    },
    {
      "cell_type": "markdown",
      "metadata": {
        "id": "EytB1us5nlMB"
      },
      "source": [
        "Question-13"
      ]
    },
    {
      "cell_type": "code",
      "execution_count": null,
      "metadata": {
        "id": "2fTcK2ggnlMC"
      },
      "outputs": [],
      "source": [
        "number_of_happy_tweets = 0\n",
        "\n",
        "for word in happy_words:\n",
        "    for i in tweets:\n",
        "        if word in i:\n",
        "            number_of_happy_tweets += 1"
      ]
    },
    {
      "cell_type": "code",
      "execution_count": null,
      "metadata": {
        "id": "pLr2bxuanlMD",
        "outputId": "67bba432-9078-454d-c8f5-e7d5a29bc82e"
      },
      "outputs": [
        {
          "name": "stdout",
          "output_type": "stream",
          "text": [
            "Number of happy tweets: 6\n"
          ]
        }
      ],
      "source": [
        "print(\"Number of happy tweets:\", number_of_happy_tweets)\n",
        ""
      ]
    },
    {
      "cell_type": "markdown",
      "metadata": {
        "id": "jHUO2qb1nlMD"
      },
      "source": [
        "Question-14"
      ]
    },
    {
      "cell_type": "code",
      "execution_count": null,
      "metadata": {
        "id": "Vipy0ysMnlME"
      },
      "outputs": [],
      "source": [
        "happy_fraction = number_of_happy_tweets / number_of_tweets"
      ]
    },
    {
      "cell_type": "code",
      "execution_count": null,
      "metadata": {
        "id": "BPTaVmOYnlME",
        "outputId": "4b500a44-0100-4daa-bb34-f84211d44d2f"
      },
      "outputs": [
        {
          "name": "stdout",
          "output_type": "stream",
          "text": [
            "The fraction of happy tweets is: 0.6\n"
          ]
        }
      ],
      "source": [
        "print(\"The fraction of happy tweets is:\", happy_fraction)"
      ]
    },
    {
      "cell_type": "markdown",
      "metadata": {
        "id": "azf3AUOwnlME"
      },
      "source": [
        "Question-15"
      ]
    },
    {
      "cell_type": "code",
      "execution_count": null,
      "metadata": {
        "id": "kuUvUxAJnlMF"
      },
      "outputs": [],
      "source": [
        "number_of_sad_tweets = 0\n",
        "\n",
        "for word in sad_words:\n",
        "    for i in tweets:\n",
        "        if word in i:\n",
        "            number_of_sad_tweets += 1"
      ]
    },
    {
      "cell_type": "code",
      "execution_count": null,
      "metadata": {
        "id": "SqRrH5LCnlMF",
        "outputId": "4f4d7569-a2b8-4d61-f36a-147831a6573f"
      },
      "outputs": [
        {
          "name": "stdout",
          "output_type": "stream",
          "text": [
            "Number of sad tweets: 2\n"
          ]
        }
      ],
      "source": [
        "print(\"Number of sad tweets:\", number_of_sad_tweets)"
      ]
    },
    {
      "cell_type": "markdown",
      "metadata": {
        "id": "9xDFz-2fnlMH"
      },
      "source": [
        "Question-16"
      ]
    },
    {
      "cell_type": "code",
      "execution_count": null,
      "metadata": {
        "id": "5Iuejh-OnlMH"
      },
      "outputs": [],
      "source": [
        "sad_fraction = number_of_sad_tweets / number_of_tweets"
      ]
    },
    {
      "cell_type": "code",
      "execution_count": null,
      "metadata": {
        "id": "tZ32N5eAnlMH",
        "outputId": "e8057202-48bb-4b9e-cc2f-2b64c0df07f5"
      },
      "outputs": [
        {
          "name": "stdout",
          "output_type": "stream",
          "text": [
            "The fraction of sad tweets is: 0.2\n"
          ]
        }
      ],
      "source": [
        "print(\"The fraction of sad tweets is:\", sad_fraction)"
      ]
    },
    {
      "cell_type": "code",
      "execution_count": null,
      "metadata": {
        "id": "-BVto7pPnlMI",
        "outputId": "a2952e76-19b2-4dd5-f410-f6a7c724b7ca"
      },
      "outputs": [
        {
          "data": {
            "application/javascript": [
              "window.require && require([\"base/js/namespace\"],function(Jupyter){Jupyter.notebook.save_checkpoint()})"
            ],
            "text/plain": [
              "<IPython.core.display.Javascript object>"
            ]
          },
          "metadata": {},
          "output_type": "display_data"
        },
        {
          "name": "stdout",
          "output_type": "stream",
          "text": [
            "[jovian] Updating notebook \"bhuvan2k3/assignment-1\" on https://jovian.com\u001b[0m\n",
            "[jovian] Committed successfully! https://jovian.com/bhuvan2k3/assignment-1\u001b[0m\n"
          ]
        },
        {
          "data": {
            "text/plain": [
              "'https://jovian.com/bhuvan2k3/assignment-1'"
            ]
          },
          "execution_count": 30,
          "metadata": {},
          "output_type": "execute_result"
        }
      ],
      "source": [
        "jovian.commit(project='assignment-1',environment=None)"
      ]
    },
    {
      "cell_type": "code",
      "execution_count": null,
      "metadata": {
        "id": "IOIvqdiBnlMI"
      },
      "outputs": [],
      "source": [
        "#optional\n",
        "sentiment_score = happy_fraction - sad_fraction"
      ]
    },
    {
      "cell_type": "code",
      "execution_count": null,
      "metadata": {
        "id": "DGercB23nlMI",
        "outputId": "3e1ccbe9-d871-4385-bdeb-036e086880bd"
      },
      "outputs": [
        {
          "name": "stdout",
          "output_type": "stream",
          "text": [
            "The sentiment score for the given tweets is 0.39999999999999997\n"
          ]
        }
      ],
      "source": [
        "print(\"The sentiment score for the given tweets is\", sentiment_score)"
      ]
    },
    {
      "cell_type": "code",
      "execution_count": null,
      "metadata": {
        "id": "U7c2f9XknlMJ",
        "outputId": "8f6561c8-e388-440d-a979-096786db080a"
      },
      "outputs": [
        {
          "name": "stdout",
          "output_type": "stream",
          "text": [
            "The overall sentiment is happy\n"
          ]
        }
      ],
      "source": [
        "if happy_fraction > sad_fraction:\n",
        "    print(\"The overall sentiment is happy\")\n",
        "else:\n",
        "    print(\"The overall sentiment is sad\")"
      ]
    },
    {
      "cell_type": "code",
      "execution_count": null,
      "metadata": {
        "id": "EgA4gwHinlMJ"
      },
      "outputs": [],
      "source": [
        "number_of_neutral_tweets = 0\n",
        "\n",
        "number_of_neutral_tweets = number_of_tweets - (number_of_happy_tweets + number_of_sad_tweets)"
      ]
    },
    {
      "cell_type": "code",
      "execution_count": null,
      "metadata": {
        "id": "ASF9gukLnlMK"
      },
      "outputs": [],
      "source": [
        "neutral_fraction = number_of_neutral_tweets / number_of_tweets"
      ]
    },
    {
      "cell_type": "code",
      "execution_count": null,
      "metadata": {
        "id": "U_9NqJeWnlMK",
        "outputId": "3c95c566-296e-4ed1-c6d4-23cd02d2c620"
      },
      "outputs": [
        {
          "name": "stdout",
          "output_type": "stream",
          "text": [
            "The fraction of neutral tweets is 0.2\n"
          ]
        }
      ],
      "source": [
        "print('The fraction of neutral tweets is', neutral_fraction)"
      ]
    },
    {
      "cell_type": "code",
      "execution_count": null,
      "metadata": {
        "id": "PlEIptEsnlMK",
        "outputId": "35e0d80b-c5af-400d-a245-8746fc10bf38"
      },
      "outputs": [
        {
          "data": {
            "application/javascript": [
              "window.require && require([\"base/js/namespace\"],function(Jupyter){Jupyter.notebook.save_checkpoint()})"
            ],
            "text/plain": [
              "<IPython.core.display.Javascript object>"
            ]
          },
          "metadata": {},
          "output_type": "display_data"
        },
        {
          "name": "stdout",
          "output_type": "stream",
          "text": [
            "[jovian] Updating notebook \"bhuvan2k3/assignment-1\" on https://jovian.com\u001b[0m\n",
            "[jovian] Committed successfully! https://jovian.com/bhuvan2k3/assignment-1\u001b[0m\n"
          ]
        },
        {
          "data": {
            "text/plain": [
              "'https://jovian.com/bhuvan2k3/assignment-1'"
            ]
          },
          "execution_count": 40,
          "metadata": {},
          "output_type": "execute_result"
        }
      ],
      "source": [
        "jovian.commit(project='assignment-1',environment=None)"
      ]
    },
    {
      "cell_type": "code",
      "execution_count": null,
      "metadata": {
        "id": "kXJn36x9nlMO"
      },
      "outputs": [],
      "source": []
    },
    {
      "cell_type": "code",
      "execution_count": null,
      "metadata": {
        "id": "xp8T-NSxnlMP"
      },
      "outputs": [],
      "source": []
    },
    {
      "cell_type": "code",
      "execution_count": null,
      "metadata": {
        "id": "KysLPj8LnlMQ"
      },
      "outputs": [],
      "source": []
    },
    {
      "cell_type": "code",
      "execution_count": null,
      "metadata": {
        "id": "2ZVIboD_nlMQ"
      },
      "outputs": [],
      "source": []
    },
    {
      "cell_type": "code",
      "execution_count": null,
      "metadata": {
        "id": "jRIEmDgUnlMQ"
      },
      "outputs": [],
      "source": []
    }
  ],
  "metadata": {
    "kernelspec": {
      "display_name": "Python 3 (ipykernel)",
      "language": "python",
      "name": "python3"
    },
    "language_info": {
      "codemirror_mode": {
        "name": "ipython",
        "version": 3
      },
      "file_extension": ".py",
      "mimetype": "text/x-python",
      "name": "python",
      "nbconvert_exporter": "python",
      "pygments_lexer": "ipython3",
      "version": "3.9.7"
    },
    "colab": {
      "provenance": [],
      "include_colab_link": true
    }
  },
  "nbformat": 4,
  "nbformat_minor": 0
}